{
 "cells": [
  {
   "cell_type": "markdown",
   "id": "31c33bbf",
   "metadata": {},
   "source": [
    "ФИО:<ins>(Перевощиков Андрей)</ins>     группа: <ins>(2)</ins>"
   ]
  },
  {
   "cell_type": "markdown",
   "id": "ddfed3fb",
   "metadata": {},
   "source": [
    "## Работа с массивами в библиотеке NumPy"
   ]
  },
  {
   "cell_type": "code",
   "execution_count": 114,
   "outputs": [],
   "source": [
    "import numpy as np\n",
    "from random import random, randint\n",
    "'''university programming '''"
   ],
   "metadata": {
    "collapsed": false,
    "pycharm": {
     "name": "#%%\n"
    }
   }
  },
  {
   "cell_type": "markdown",
   "id": "fbd32fb4",
   "metadata": {},
   "source": [
    " <b>Задание 1.</b> Задать матрицу $A_{4\\times 4}$ случайных чисел любого типа."
   ]
  },
  {
   "cell_type": "code",
   "execution_count": 115,
   "id": "1e0ca0ef",
   "metadata": {},
   "outputs": [
    {
     "name": "stdout",
     "output_type": "stream",
     "text": [
      "[[ 0.2600371   5.87085385 11.48167061 17.09248736]\n",
      " [ 3.31310589  8.92392265 14.5347394  20.14555615]\n",
      " [ 6.36617469 11.97699144 17.5878082  23.19862495]\n",
      " [ 9.41924348 15.03006024 20.64087699 26.25169374]]\n"
     ]
    }
   ],
   "source": [
    "f = lambda i, j: ((i * random() + j * random() + random()) * 10)\n",
    "# f = lambda i, j: (i + j + 1) * random() * 10 + (i - j) * random() * 10\n",
    "# f = lambda i  , j : 10 - (i + 2 + j)\n",
    "# A = np.array(np.empty(4, dtype = np.float32))\n",
    "# np.empty(4, dtype = np.float32)\n",
    "A = np.fromfunction(f, (4, 4))\n",
    "\n",
    "print(A)\n",
    "# print(np.linalg.det(A))"
   ]
  },
  {
   "cell_type": "markdown",
   "id": "f4841c49",
   "metadata": {},
   "source": [
    " <b>Задание 2.</b> Случайным образом сгенерировать два целых числа $k$, $l$. Найти минор $M_{k,l}$. \n",
    " \n",
    " <ins>Указание:</ins> Минором $M_{k,l} $ матрицы  называется определитель матрицы, полученной путём вычеркивания $k$-столбца и $l$-строки\n",
    " \n"
   ]
  },
  {
   "cell_type": "code",
   "execution_count": 116,
   "id": "edeb2eb8",
   "metadata": {},
   "outputs": [],
   "source": [
    "def get_minor(mat: np.ndarray, k: int, l: int) -> np.ndarray:\n",
    "    return np.delete(np.delete(mat, l, axis=0), k, axis=1)\n",
    "\n",
    "\n",
    "def get_det_by_minor(mat: np.ndarray, k: int, l: int):\n",
    "    return np.linalg.det(get_minor(mat, k, l))\n",
    "\n",
    "# print(get_minor(A, 1, 2))\n",
    "# print(get_det(get_minor(A, 2, 2)))\n",
    "# k , l ="
   ]
  },
  {
   "cell_type": "markdown",
   "id": "26677a43",
   "metadata": {},
   "source": [
    "<b>Задание 3.</b> Используя код задания 2, вычислить определитель исходной матрицы $A$ путём разложения её по произвольным строке или столбцу. "
   ]
  },
  {
   "cell_type": "code",
   "execution_count": 117,
   "id": "67e77b25",
   "metadata": {},
   "outputs": [
    {
     "name": "stdout",
     "output_type": "stream",
     "text": [
      "Встроенная функиця -1926.0000000000007\n",
      "Моя функиця -1926.0000000000018\n",
      "-1.4942412452888105e-13\n"
     ]
    }
   ],
   "source": [
    "# print(dir(A))\n",
    "mtest = [[-4, -2, -7, 8], [2, 7, 4, 9], [2, 0, 6, -3], [6, 4, -10, -4]]\n",
    "mtest = np.array(mtest)\n",
    "\n",
    "\n",
    "def get_det_task(mat: np.ndarray) -> float:\n",
    "    res = 0\n",
    "    z = 1\n",
    "    for i in range(len(A)):\n",
    "        # print(mat[0][i])\n",
    "        # print(get_minor(mat , i , 0))\n",
    "        res += mat[0][i] * get_det_by_minor(mat, i, 0) * z\n",
    "        z *= -1\n",
    "        # print(get_minor(A, i, 0))\n",
    "\n",
    "    return res\n",
    "\n",
    "\n",
    "print(f\"Встроенная функиця {np.linalg.det(mtest)}\")\n",
    "print(f\"Моя функиця {get_det_task(mtest)}\")\n",
    "print(get_det_task(A))"
   ]
  },
  {
   "cell_type": "markdown",
   "id": "47a2df4c",
   "metadata": {},
   "source": [
    "<b>Задание 4.</b> Задать массив целых чисел $x$ случайной размерности $d > 2$. Случайным образом определить целое число $n$. Определить сколько и какие элементы в массиве $x$ имеют ту же четность и тот же знак, что и заданное число $n$. "
   ]
  },
  {
   "cell_type": "code",
   "execution_count": 118,
   "id": "f1d9a9e7",
   "metadata": {},
   "outputs": [
    {
     "name": "stdout",
     "output_type": "stream",
     "text": [
      "Elements like 9 in arr [  9 -10  -3   9  -2   9  11  11] : 5 , this elemen is [ 9  9  9 11 11]\n"
     ]
    },
    {
     "name": "stderr",
     "output_type": "stream",
     "text": [
      "C:\\Users\\rasha\\AppData\\Local\\Temp/ipykernel_14964/1199424354.py:17: DeprecationWarning: This function is deprecated. Please call randint(-10, 11 + 1) instead\n",
      "  arr = np.random.random_integers(-10, 10 + 1, randint(2, 10))\n"
     ]
    }
   ],
   "source": [
    "def generate_array_int() -> np.ndarray:\n",
    "    n = randint(2, 10)\n",
    "    return np.array([randint(-10, 10) for _ in range(n)])\n",
    "\n",
    "\n",
    "def count_of_same(arr: np.ndarray, n: int):\n",
    "    res = 0\n",
    "    # mask = all([(arr %2 == n%2) , (arr*n>=0)])\n",
    "    # print(mask)\n",
    "    # print(arr[mask])\n",
    "    t = arr[np.where((arr % 2 == n % 2) & (arr * n >= 0))]\n",
    "    return len(t), t\n",
    "\n",
    "\n",
    "# print(np.random.random_integers(-10, 10, randint(2, 10)))\n",
    "# print(generate_array_int())\n",
    "arr = np.random.random_integers(-10, 10 + 1, randint(2, 10))\n",
    "n = arr[0]\n",
    "print(f'Elements like {n} in arr {arr} : {count_of_same(arr, n)[0]} , this elemen is {count_of_same(arr, n)[1]}')\n",
    "\n"
   ]
  },
  {
   "cell_type": "markdown",
   "id": "750e67c7",
   "metadata": {},
   "source": [
    "<b>Задание 5.</b> Задать два массива вещественных чисел $x$ и $y$ случайной размерности $d > 2$.Получить новый массив $z$, содержащий на $i$-месте целую часть $x_i$, если его дробная часть оказалась больше, чем дробная часть $y_i$ и наоборот. "
   ]
  },
  {
   "cell_type": "markdown",
   "id": "7102a528",
   "metadata": {},
   "source": [
    "Пример входных данных и результата работы программы:\n",
    "\n",
    "x = [15.14903699  3.77044949 -7.36159982  8.80036869  6.10691581]\n",
    "\n",
    "y = [ -8.65563977 -12.60192654  15.90580188 -16.63450346  11.83626016]\n",
    "\n",
    "z = [ -8. 3.  15. 8.  11.]\n"
   ]
  },
  {
   "cell_type": "code",
   "execution_count": 119,
   "id": "e2757c1d",
   "metadata": {},
   "outputs": [
    {
     "name": "stdout",
     "output_type": "stream",
     "text": [
      " x = [ 7.98590619  7.96530204 -7.84756095 -4.14704963  3.99423123 -7.9134258\n",
      "  6.43125723  9.42480003 -7.61738597  7.36378861] \n",
      " y = [ 7.3111664   4.33850758  7.71794892  7.49915764 -4.48134031  1.14249942\n",
      "  5.15399305  2.65464733 -0.28607402 -0.34135777]\n",
      "1\n",
      "z = [ 7.  7. -7.  7.  3. -7.  6.  2. -7.  7.]\n"
     ]
    }
   ],
   "source": [
    "n = randint(2, 10)\n",
    "\n",
    "x = (10 - (-10)) * np.random.rand(n) - 10\n",
    "y = (10 - (-10)) * np.random.rand(n) - 10\n",
    "z = np.array([])\n",
    "print(f' x = {x} \\n y = {y}')\n",
    "\n",
    "func = lambda  x , y : int (x ) if abs(x)%1 > abs(y)%1 else int(y)\n",
    "print(func( 1.1 , 2.01))\n",
    "for i in range(n):\n",
    "    # print(func(x[i] , y[i]))\n",
    "    z = np.append(z , func(x[i] , y[i]))\n",
    "    # print(z)\n",
    "print(f'z = {z}' )"
   ]
  },
  {
   "cell_type": "markdown",
   "id": "561b8731",
   "metadata": {},
   "source": [
    "<b>Задание 6.</b> Задать массив натуральных чисел $x$ случайной размерности $d > 2$. Получить массив $y$, содержащий только те элементы из $x$, которые являются степенями двойки."
   ]
  },
  {
   "cell_type": "code",
   "execution_count": 120,
   "id": "d3069964",
   "metadata": {},
   "outputs": [
    {
     "name": "stdout",
     "output_type": "stream",
     "text": [
      "x = [43 14 26 31 24 42 35 48  9 24]  -> y = []\n"
     ]
    }
   ],
   "source": [
    "arr = np.array([randint(1, 65) for _ in range(n)])\n",
    "mask = (arr & (arr-1) == 0)\n",
    "new_arr = arr[mask]\n",
    "\n",
    "print(f'x = {arr}  -> y = {new_arr}')\n"
   ]
  }
 ],
 "metadata": {
  "kernelspec": {
   "name": "pycharm-1b6573b",
   "language": "python",
   "display_name": "PyCharm (pythonProject3)"
  },
  "language_info": {
   "codemirror_mode": {
    "name": "ipython",
    "version": 3
   },
   "file_extension": ".py",
   "mimetype": "text/x-python",
   "name": "python",
   "nbconvert_exporter": "python",
   "pygments_lexer": "ipython3",
   "version": "3.8.8"
  }
 },
 "nbformat": 4,
 "nbformat_minor": 5
}